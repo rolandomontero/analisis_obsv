{
 "cells": [
  {
   "cell_type": "code",
   "execution_count": 1,
   "id": "ed98fd0c-1e0c-4c7b-b2b2-4ff59613e99a",
   "metadata": {},
   "outputs": [],
   "source": [
    "import pandas as pd\n",
    "from pysentimiento import create_analyzer"
   ]
  },
  {
   "cell_type": "code",
   "execution_count": null,
   "id": "8bd09565-6a31-4746-b6a9-ee67186c4206",
   "metadata": {},
   "outputs": [],
   "source": []
  },
  {
   "cell_type": "code",
   "execution_count": 2,
   "id": "d4ce678e-2c62-47b2-b0ee-944d0fee81c7",
   "metadata": {},
   "outputs": [],
   "source": [
    "frases = pd.read_excel(io=\"listado_alumnos.xls\", usecols=\"B,E,G\", sheet_name=\"Hoja1\")"
   ]
  },
  {
   "cell_type": "code",
   "execution_count": 3,
   "id": "4a44b8ad-fa64-4816-a160-b9201fe17020",
   "metadata": {},
   "outputs": [],
   "source": [
    "frases.insert(2, 'NEG', '0', allow_duplicates=False)\n",
    "frases.insert(3, 'NEU', '0', allow_duplicates=False)\n",
    "frases.insert(4, 'POS', '0', allow_duplicates=False)"
   ]
  },
  {
   "cell_type": "code",
   "execution_count": 4,
   "id": "4a0d7c63-7148-4c5b-9f0f-484711b67bba",
   "metadata": {},
   "outputs": [],
   "source": [
    "analyzer = create_analyzer(task=\"sentiment\", lang=\"es\")"
   ]
  },
  {
   "cell_type": "code",
   "execution_count": 5,
   "id": "30b52b68-fd72-443c-9e5c-a2ef46c03581",
   "metadata": {
    "tags": []
   },
   "outputs": [
    {
     "name": "stderr",
     "output_type": "stream",
     "text": [
      "D:\\Portable Python\\App\\Python\\lib\\site-packages\\ipykernel_launcher.py:3: SettingWithCopyWarning: \n",
      "A value is trying to be set on a copy of a slice from a DataFrame\n",
      "\n",
      "See the caveats in the documentation: https://pandas.pydata.org/pandas-docs/stable/user_guide/indexing.html#returning-a-view-versus-a-copy\n",
      "  This is separate from the ipykernel package so we can avoid doing imports until\n",
      "D:\\Portable Python\\App\\Python\\lib\\site-packages\\ipykernel_launcher.py:4: SettingWithCopyWarning: \n",
      "A value is trying to be set on a copy of a slice from a DataFrame\n",
      "\n",
      "See the caveats in the documentation: https://pandas.pydata.org/pandas-docs/stable/user_guide/indexing.html#returning-a-view-versus-a-copy\n",
      "  after removing the cwd from sys.path.\n",
      "D:\\Portable Python\\App\\Python\\lib\\site-packages\\ipykernel_launcher.py:5: SettingWithCopyWarning: \n",
      "A value is trying to be set on a copy of a slice from a DataFrame\n",
      "\n",
      "See the caveats in the documentation: https://pandas.pydata.org/pandas-docs/stable/user_guide/indexing.html#returning-a-view-versus-a-copy\n",
      "  \"\"\"\n"
     ]
    }
   ],
   "source": [
    "for i in frases.index:\n",
    "    a=analyzer.predict(frases[\"Anotación\"][i])\n",
    "    frases[\"POS\"][i]=(a.probas['POS']>0.80)*1\n",
    "    frases[\"NEU\"][i]=(a.probas['NEU']>0.80)*1\n",
    "    frases[\"NEG\"][i]=(a.probas['NEG']>0.80)*1\n",
    "    \n",
    "   \n",
    "    "
   ]
  },
  {
   "cell_type": "code",
   "execution_count": null,
   "id": "9e906d9b-ae73-46a6-8d65-57c9e59514b8",
   "metadata": {},
   "outputs": [],
   "source": [
    "frases.head(4)"
   ]
  },
  {
   "cell_type": "code",
   "execution_count": null,
   "id": "d21ed2b2-7fc2-48b5-b700-9d131fd787a7",
   "metadata": {},
   "outputs": [],
   "source": [
    "frases.to_excel('analisis.xlsx') "
   ]
  },
  {
   "cell_type": "code",
   "execution_count": 6,
   "id": "6c407ea2-b1cc-4416-b9bf-646bc580d5c3",
   "metadata": {},
   "outputs": [
    {
     "data": {
      "text/plain": [
       "RangeIndex(start=0, stop=2426, step=1)"
      ]
     },
     "execution_count": 6,
     "metadata": {},
     "output_type": "execute_result"
    }
   ],
   "source": [
    "frases.index"
   ]
  },
  {
   "cell_type": "code",
   "execution_count": 7,
   "id": "ac1bf26a-4498-4012-9332-819311b8ae1a",
   "metadata": {},
   "outputs": [
    {
     "data": {
      "text/plain": [
       "2426"
      ]
     },
     "execution_count": 7,
     "metadata": {},
     "output_type": "execute_result"
    }
   ],
   "source": [
    "len(frases.index)"
   ]
  },
  {
   "cell_type": "code",
   "execution_count": 8,
   "id": "8f94d57c-f89f-4a26-b872-e2783dec6790",
   "metadata": {},
   "outputs": [
    {
     "name": "stdout",
     "output_type": "stream",
     "text": [
      "      Rut Alumno                                          Anotación NEG NEU  \\\n",
      "0       21138871  Alumno no trae las hojas de reforzamiento firm...   1   0   \n",
      "1       21138871        No entrega guía de preparación para prueba.   0   1   \n",
      "2       21138871  No entrega trabajo c/1 de matemática (desarrol...   0   1   \n",
      "3       21138871                                         Sin tarea.   0   0   \n",
      "4       21138871                       No trae material de trabajo.   1   0   \n",
      "...          ...                                                ...  ..  ..   \n",
      "2421    21020195     Asisten a clases con buzo y sin justificativo.   0   1   \n",
      "2422    21022287  Preocupa actitud d e alumna, baja sus califica...   1   0   \n",
      "2423    21022287  No presenta su portafolio calendarizado para e...   0   0   \n",
      "2424    21022287  Por su compromiso con su colegio: 'Participa e...   0   1   \n",
      "2425    25197079  Por su compromiso con su colegio: 'Participa e...   0   1   \n",
      "\n",
      "     POS Tipo_Anotación  \n",
      "0      0              -  \n",
      "1      0              -  \n",
      "2      0              -  \n",
      "3      0              -  \n",
      "4      0              -  \n",
      "...   ..            ...  \n",
      "2421   0              -  \n",
      "2422   0              -  \n",
      "2423   0              -  \n",
      "2424   0              +  \n",
      "2425   0              +  \n",
      "\n",
      "[2426 rows x 6 columns]\n"
     ]
    }
   ],
   "source": [
    "print(frases)"
   ]
  },
  {
   "cell_type": "code",
   "execution_count": null,
   "id": "95c2c86d-96ae-4a0a-8f51-fc1b1c6be5f9",
   "metadata": {},
   "outputs": [],
   "source": []
  }
 ],
 "metadata": {
  "kernelspec": {
   "display_name": "Python 3 (ipykernel)",
   "language": "python",
   "name": "python3"
  },
  "language_info": {
   "codemirror_mode": {
    "name": "ipython",
    "version": 3
   },
   "file_extension": ".py",
   "mimetype": "text/x-python",
   "name": "python",
   "nbconvert_exporter": "python",
   "pygments_lexer": "ipython3",
   "version": "3.7.4"
  },
  "toc-autonumbering": true,
  "toc-showmarkdowntxt": false
 },
 "nbformat": 4,
 "nbformat_minor": 5
}
